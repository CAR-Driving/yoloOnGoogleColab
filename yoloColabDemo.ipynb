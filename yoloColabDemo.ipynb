{
 "cells": [
  {
   "cell_type": "markdown",
   "metadata": {
    "colab_type": "text",
    "id": "B4GYnpnQ_TED"
   },
   "source": [
    "# Run YOLO V3 on Colab for images/videos\n",
    "\n",
    "Hello there,\n",
    "\n",
    "Today, we will be discussing about how can we use the Darknet project on Google Colab platform. For those who are not familiar with this two terms: The Darknet project is a open source\n",
    "\n",
    "Have a look Ted Talk of ... the developer of the darknet project. The thing which I like about is its clairity and performance. All the code is written in C, to define a deep learning network you should only create a config file which define the layers. By this way, it does not lose its performance capabilities also it provide us easy to use interface for development with this library.\n"
   ]
  },
  {
   "cell_type": "markdown",
   "metadata": {
    "colab_type": "text",
    "id": "B567H--EqT__"
   },
   "source": [
    "Mount google drive directory to remote linux machine"
   ]
  },
  {
   "cell_type": "code",
   "execution_count": 1,
   "metadata": {
    "colab": {},
    "colab_type": "code",
    "id": "HBGOryKgQvDy"
   },
   "outputs": [],
   "source": [
    "\n",
    "import cv2, os\n",
    "import matplotlib.pyplot as plt\n",
    "%matplotlib inline\n",
    "  "
   ]
  },
  {
   "cell_type": "markdown",
   "metadata": {
    "colab_type": "text",
    "id": "cimTy_ZyqcD9"
   },
   "source": [
    "# Install\n",
    "Go to directory, clear and install everthing\n",
    "\n",
    "\n",
    "\n",
    "*   Clone the project\n",
    "*   Change make file configurations OPENCV and GPU enable\n",
    "*   Install opencv library\n"
   ]
  },
  {
   "cell_type": "code",
   "execution_count": 2,
   "metadata": {
    "colab": {
     "base_uri": "https://localhost:8080/",
     "height": 827
    },
    "colab_type": "code",
    "id": "1faGiPFGrA3O",
    "outputId": "127d7d69-feba-4eae-daf6-890bbf771f99"
   },
   "outputs": [
    {
     "name": "stdout",
     "output_type": "stream",
     "text": [
      "LICENSE  README.md  yoloColabDemo.ipynb\n",
      "/bin/sh: 1: cd: can't cd to /content\n",
      "Cloning into 'darknet'...\n",
      "remote: Enumerating objects: 10732, done.\u001b[K\n",
      "^Cceiving objects:  20% (2147/10732), 2.41 MiB | 492.00 KiB/s    \n"
     ]
    },
    {
     "name": "stderr",
     "output_type": "stream",
     "text": [
      "UsageError: Line magic function `%` not found.\n"
     ]
    }
   ],
   "source": [
    "\n",
    "!ls\n",
    "!cd /content\n",
    "!rm -fr darknet\n",
    "!git clone https://github.com/AlexeyAB/darknet/\n",
    "% cd darknet\n",
    "!sed -i 's/OPENCV=0/OPENCV=1/g' Makefile\n",
    "!sed -i 's/GPU=0/GPU=1/g' Makefile\n",
    "!sed -i 's/CUDNN=0/CUDNN=1/g' Makefile\n",
    "!apt update\n",
    "!apt-get install libopencv-dev"
   ]
  },
  {
   "cell_type": "markdown",
   "metadata": {
    "colab_type": "text",
    "id": "86slFHWaq7Vk"
   },
   "source": [
    "# `Compile and Configure`\n",
    "\n",
    "\n",
    "* Compile YOLO\n",
    "* Download YOLO weights\n",
    "\n"
   ]
  },
  {
   "cell_type": "code",
   "execution_count": 0,
   "metadata": {
    "colab": {},
    "colab_type": "code",
    "id": "SsilWqOnM9Rt"
   },
   "outputs": [],
   "source": [
    "!make &> compile.log\n"
   ]
  },
  {
   "cell_type": "code",
   "execution_count": 0,
   "metadata": {
    "colab": {
     "base_uri": "https://localhost:8080/",
     "height": 215
    },
    "colab_type": "code",
    "id": "vJ4Bu_sc0cc1",
    "outputId": "72e9d25f-16c5-4ef9-c74a-a0377f925490"
   },
   "outputs": [
    {
     "name": "stdout",
     "output_type": "stream",
     "text": [
      "--2019-06-26 18:53:00--  https://pjreddie.com/media/files/yolov3.weights\n",
      "Resolving pjreddie.com (pjreddie.com)... 128.208.4.108\n",
      "Connecting to pjreddie.com (pjreddie.com)|128.208.4.108|:443... connected.\n",
      "HTTP request sent, awaiting response... 200 OK\n",
      "Length: 248007048 (237M) [application/octet-stream]\n",
      "Saving to: ‘yolov3.weights’\n",
      "\n",
      "yolov3.weights      100%[===================>] 236.52M  10.3MB/s    in 31s     \n",
      "\n",
      "2019-06-26 18:53:32 (7.55 MB/s) - ‘yolov3.weights’ saved [248007048/248007048]\n",
      "\n"
     ]
    }
   ],
   "source": [
    "!wget https://pjreddie.com/media/files/yolov3.weights"
   ]
  },
  {
   "cell_type": "markdown",
   "metadata": {
    "colab_type": "text",
    "id": "J89LB-FvrxmI"
   },
   "source": [
    "# Test An Image"
   ]
  },
  {
   "cell_type": "code",
   "execution_count": 0,
   "metadata": {
    "colab": {},
    "colab_type": "code",
    "id": "132eS1AHrwSr"
   },
   "outputs": [],
   "source": [
    "def predictImage(imageDir):\n",
    "  os.system(\"cd /content/darknet && ./darknet detect cfg/yolov3.cfg yolov3.weights {}\".format(imageDir))\n",
    "  image = cv2.imread(\"/content/darknet/predictions.jpg\")\n",
    "  height, width = image.shape[:2]\n",
    "  resized_image = cv2.resize(image,(3*width, 3*height), interpolation = cv2.INTER_CUBIC)\n",
    "\n",
    "  fig = plt.gcf()\n",
    "  fig.set_size_inches(18, 10)\n",
    "  plt.axis(\"off\")\n",
    "  #plt.rcParams['figure.figsize'] = [10, 5]\n",
    "  plt.imshow(cv2.cvtColor(resized_image, cv2.COLOR_BGR2RGB))\n",
    "  plt.show()\n"
   ]
  },
  {
   "cell_type": "code",
   "execution_count": 0,
   "metadata": {
    "colab": {
     "base_uri": "https://localhost:8080/",
     "height": 215
    },
    "colab_type": "code",
    "id": "fJjR-rbRJeYb",
    "outputId": "29548f84-7193-49ea-b37e-3c77a086d4ad"
   },
   "outputs": [
    {
     "name": "stdout",
     "output_type": "stream",
     "text": [
      "--2019-06-26 18:57:29--  https://drive.google.com/file/d/1HnWnvhF30dVmFlWr9zElEYYKva902oKC/view?usp=sharing\n",
      "Resolving drive.google.com (drive.google.com)... 108.177.127.138, 108.177.127.139, 108.177.127.101, ...\n",
      "Connecting to drive.google.com (drive.google.com)|108.177.127.138|:443... connected.\n",
      "HTTP request sent, awaiting response... 200 OK\n",
      "Length: unspecified [text/html]\n",
      "Saving to: ‘view?usp=sharing’\n",
      "\n",
      "\r",
      "view?usp=sharing        [<=>                 ]       0  --.-KB/s               \r",
      "view?usp=sharing        [ <=>                ] 119.83K  --.-KB/s    in 0.1s    \n",
      "\n",
      "2019-06-26 18:57:29 (1.05 MB/s) - ‘view?usp=sharing’ saved [122705]\n",
      "\n"
     ]
    }
   ],
   "source": [
    "!wget https://drive.google.com/file/d/1HnWnvhF30dVmFlWr9zElEYYKva902oKC/view?usp=sharing "
   ]
  },
  {
   "cell_type": "code",
   "execution_count": 0,
   "metadata": {
    "colab": {
     "base_uri": "https://localhost:8080/",
     "height": 592
    },
    "colab_type": "code",
    "id": "I2-O4B7e1UOC",
    "outputId": "76fdfe57-68a1-4e36-97ca-bfc7c3d44cb7"
   },
   "outputs": [
    {
     "data": {
      "image/png": "[encoded data removed]",
      "text/plain": [
       "<Figure size 1296x720 with 1 Axes>"
      ]
     },
     "metadata": {
      "tags": []
     },
     "output_type": "display_data"
    }
   ],
   "source": [
    "predictImage(\")\n",
    "\n"
   ]
  },
  {
   "cell_type": "markdown",
   "metadata": {
    "colab_type": "text",
    "id": "XyokVH5mvQNv"
   },
   "source": [
    "# Test with Video"
   ]
  },
  {
   "cell_type": "code",
   "execution_count": 0,
   "metadata": {
    "colab": {},
    "colab_type": "code",
    "id": "yrn7J_5G16B7"
   },
   "outputs": [],
   "source": [
    "def predictVideo(videoDir):\n",
    "  os.system(\"\"\" cd /content/darknet && ./darknet detector demo cfg/coco.data cfg/yolov3.cfg yolov3.weights \\\n",
    "  -dont_show {} -i 0 -out_filename res.avi\n",
    "  \"\"\".format(videoDir))\n"
   ]
  },
  {
   "cell_type": "code",
   "execution_count": 0,
   "metadata": {
    "colab": {},
    "colab_type": "code",
    "id": "e_GyC7c3amYb"
   },
   "outputs": [],
   "source": [
    "predictVideo(\"/content/drive/'My Drive'/'Colab Notebooks'/licencePlateDetection/videos/test2.mp4\")\n"
   ]
  },
  {
   "cell_type": "code",
   "execution_count": 0,
   "metadata": {
    "colab": {},
    "colab_type": "code",
    "id": "Tu5glfpwwRlo"
   },
   "outputs": [],
   "source": [
    "files.download('res.avi')\n",
    "\n"
   ]
  },
  {
   "cell_type": "code",
   "execution_count": 0,
   "metadata": {
    "colab": {
     "base_uri": "https://localhost:8080/",
     "height": 2227
    },
    "colab_type": "code",
    "id": "B_v4rGb-jMgs",
    "outputId": "dd6ef2ef-412b-4226-bdd9-a618235f927a"
   },
   "outputs": [
    {
     "name": "stdout",
     "output_type": "stream",
     "text": [
      "Demo\n",
      "layer     filters    size              input                output\n",
      "   0 conv     32  3 x 3 / 1   416 x 416 x   3   ->   416 x 416 x  32 0.299 BF\n",
      "   1 conv     64  3 x 3 / 2   416 x 416 x  32   ->   208 x 208 x  64 1.595 BF\n",
      "   2 conv     32  1 x 1 / 1   208 x 208 x  64   ->   208 x 208 x  32 0.177 BF\n",
      "   3 conv     64  3 x 3 / 1   208 x 208 x  32   ->   208 x 208 x  64 1.595 BF\n",
      "   4 Shortcut Layer: 1\n",
      "   5 conv    128  3 x 3 / 2   208 x 208 x  64   ->   104 x 104 x 128 1.595 BF\n",
      "   6 conv     64  1 x 1 / 1   104 x 104 x 128   ->   104 x 104 x  64 0.177 BF\n",
      "   7 conv    128  3 x 3 / 1   104 x 104 x  64   ->   104 x 104 x 128 1.595 BF\n",
      "   8 Shortcut Layer: 5\n",
      "   9 conv     64  1 x 1 / 1   104 x 104 x 128   ->   104 x 104 x  64 0.177 BF\n",
      "  10 conv    128  3 x 3 / 1   104 x 104 x  64   ->   104 x 104 x 128 1.595 BF\n",
      "  11 Shortcut Layer: 8\n",
      "  12 conv    256  3 x 3 / 2   104 x 104 x 128   ->    52 x  52 x 256 1.595 BF\n",
      "  13 conv    128  1 x 1 / 1    52 x  52 x 256   ->    52 x  52 x 128 0.177 BF\n",
      "  14 conv    256  3 x 3 / 1    52 x  52 x 128   ->    52 x  52 x 256 1.595 BF\n",
      "  15 Shortcut Layer: 12\n",
      "  16 conv    128  1 x 1 / 1    52 x  52 x 256   ->    52 x  52 x 128 0.177 BF\n",
      "  17 conv    256  3 x 3 / 1    52 x  52 x 128   ->    52 x  52 x 256 1.595 BF\n",
      "  18 Shortcut Layer: 15\n",
      "  19 conv    128  1 x 1 / 1    52 x  52 x 256   ->    52 x  52 x 128 0.177 BF\n",
      "  20 conv    256  3 x 3 / 1    52 x  52 x 128   ->    52 x  52 x 256 1.595 BF\n",
      "  21 Shortcut Layer: 18\n",
      "  22 conv    128  1 x 1 / 1    52 x  52 x 256   ->    52 x  52 x 128 0.177 BF\n",
      "  23 conv    256  3 x 3 / 1    52 x  52 x 128   ->    52 x  52 x 256 1.595 BF\n",
      "  24 Shortcut Layer: 21\n",
      "  25 conv    128  1 x 1 / 1    52 x  52 x 256   ->    52 x  52 x 128 0.177 BF\n",
      "  26 conv    256  3 x 3 / 1    52 x  52 x 128   ->    52 x  52 x 256 1.595 BF\n",
      "  27 Shortcut Layer: 24\n",
      "  28 conv    128  1 x 1 / 1    52 x  52 x 256   ->    52 x  52 x 128 0.177 BF\n",
      "  29 conv    256  3 x 3 / 1    52 x  52 x 128   ->    52 x  52 x 256 1.595 BF\n",
      "  30 Shortcut Layer: 27\n",
      "  31 conv    128  1 x 1 / 1    52 x  52 x 256   ->    52 x  52 x 128 0.177 BF\n",
      "  32 conv    256  3 x 3 / 1    52 x  52 x 128   ->    52 x  52 x 256 1.595 BF\n",
      "  33 Shortcut Layer: 30\n",
      "  34 conv    128  1 x 1 / 1    52 x  52 x 256   ->    52 x  52 x 128 0.177 BF\n",
      "  35 conv    256  3 x 3 / 1    52 x  52 x 128   ->    52 x  52 x 256 1.595 BF\n",
      "  36 Shortcut Layer: 33\n",
      "  37 conv    512  3 x 3 / 2    52 x  52 x 256   ->    26 x  26 x 512 1.595 BF\n",
      "  38 conv    256  1 x 1 / 1    26 x  26 x 512   ->    26 x  26 x 256 0.177 BF\n",
      "  39 conv    512  3 x 3 / 1    26 x  26 x 256   ->    26 x  26 x 512 1.595 BF\n",
      "  40 Shortcut Layer: 37\n",
      "  41 conv    256  1 x 1 / 1    26 x  26 x 512   ->    26 x  26 x 256 0.177 BF\n",
      "  42 conv    512  3 x 3 / 1    26 x  26 x 256   ->    26 x  26 x 512 1.595 BF\n",
      "  43 Shortcut Layer: 40\n",
      "  44 conv    256  1 x 1 / 1    26 x  26 x 512   ->    26 x  26 x 256 0.177 BF\n",
      "  45 conv    512  3 x 3 / 1    26 x  26 x 256   ->    26 x  26 x 512 1.595 BF\n",
      "  46 Shortcut Layer: 43\n",
      "  47 conv    256  1 x 1 / 1    26 x  26 x 512   ->    26 x  26 x 256 0.177 BF\n",
      "  48 conv    512  3 x 3 / 1    26 x  26 x 256   ->    26 x  26 x 512 1.595 BF\n",
      "  49 Shortcut Layer: 46\n",
      "  50 conv    256  1 x 1 / 1    26 x  26 x 512   ->    26 x  26 x 256 0.177 BF\n",
      "  51 conv    512  3 x 3 / 1    26 x  26 x 256   ->    26 x  26 x 512 1.595 BF\n",
      "  52 Shortcut Layer: 49\n",
      "  53 conv    256  1 x 1 / 1    26 x  26 x 512   ->    26 x  26 x 256 0.177 BF\n",
      "  54 conv    512  3 x 3 / 1    26 x  26 x 256   ->    26 x  26 x 512 1.595 BF\n",
      "  55 Shortcut Layer: 52\n",
      "  56 conv    256  1 x 1 / 1    26 x  26 x 512   ->    26 x  26 x 256 0.177 BF\n",
      "  57 conv    512  3 x 3 / 1    26 x  26 x 256   ->    26 x  26 x 512 1.595 BF\n",
      "  58 Shortcut Layer: 55\n",
      "  59 conv    256  1 x 1 / 1    26 x  26 x 512   ->    26 x  26 x 256 0.177 BF\n",
      "  60 conv    512  3 x 3 / 1    26 x  26 x 256   ->    26 x  26 x 512 1.595 BF\n",
      "  61 Shortcut Layer: 58\n",
      "  62 conv   1024  3 x 3 / 2    26 x  26 x 512   ->    13 x  13 x1024 1.595 BF\n",
      "  63 conv    512  1 x 1 / 1    13 x  13 x1024   ->    13 x  13 x 512 0.177 BF\n",
      "  64 conv   1024  3 x 3 / 1    13 x  13 x 512   ->    13 x  13 x1024 1.595 BF\n",
      "  65 Shortcut Layer: 62\n",
      "  66 conv    512  1 x 1 / 1    13 x  13 x1024   ->    13 x  13 x 512 0.177 BF\n",
      "  67 conv   1024  3 x 3 / 1    13 x  13 x 512   ->    13 x  13 x1024 1.595 BF\n",
      "  68 Shortcut Layer: 65\n",
      "  69 conv    512  1 x 1 / 1    13 x  13 x1024   ->    13 x  13 x 512 0.177 BF\n",
      "  70 conv   1024  3 x 3 / 1    13 x  13 x 512   ->    13 x  13 x1024 1.595 BF\n",
      "  71 Shortcut Layer: 68\n",
      "  72 conv    512  1 x 1 / 1    13 x  13 x1024   ->    13 x  13 x 512 0.177 BF\n",
      "  73 conv   1024  3 x 3 / 1    13 x  13 x 512   ->    13 x  13 x1024 1.595 BF\n",
      "  74 Shortcut Layer: 71\n",
      "  75 conv    512  1 x 1 / 1    13 x  13 x1024   ->    13 x  13 x 512 0.177 BF\n",
      "  76 conv   1024  3 x 3 / 1    13 x  13 x 512   ->    13 x  13 x1024 1.595 BF\n",
      "  77 conv    512  1 x 1 / 1    13 x  13 x1024   ->    13 x  13 x 512 0.177 BF\n",
      "  78 conv   1024  3 x 3 / 1    13 x  13 x 512   ->    13 x  13 x1024 1.595 BF\n",
      "  79 conv    512  1 x 1 / 1    13 x  13 x1024   ->    13 x  13 x 512 0.177 BF\n",
      "  80 conv   1024  3 x 3 / 1    13 x  13 x 512   ->    13 x  13 x1024 1.595 BF\n",
      "  81 conv    255  1 x 1 / 1    13 x  13 x1024   ->    13 x  13 x 255 0.088 BF\n",
      "  82 yolo\n",
      "  83 route  79\n",
      "  84 conv    256  1 x 1 / 1    13 x  13 x 512   ->    13 x  13 x 256 0.044 BF\n",
      "  85 upsample            2x    13 x  13 x 256   ->    26 x  26 x 256\n",
      "  86 route  85 61\n",
      "  87 conv    256  1 x 1 / 1    26 x  26 x 768   ->    26 x  26 x 256 0.266 BF\n",
      "  88 conv    512  3 x 3 / 1    26 x  26 x 256   ->    26 x  26 x 512 1.595 BF\n",
      "  89 conv    256  1 x 1 / 1    26 x  26 x 512   ->    26 x  26 x 256 0.177 BF\n",
      "  90 conv    512  3 x 3 / 1    26 x  26 x 256   ->    26 x  26 x 512 1.595 BF\n",
      "  91 conv    256  1 x 1 / 1    26 x  26 x 512   ->    26 x  26 x 256 0.177 BF\n",
      "  92 conv    512  3 x 3 / 1    26 x  26 x 256   ->    26 x  26 x 512 1.595 BF\n",
      "  93 conv    255  1 x 1 / 1    26 x  26 x 512   ->    26 x  26 x 255 0.177 BF\n",
      "  94 yolo\n",
      "  95 route  91\n",
      "  96 conv    128  1 x 1 / 1    26 x  26 x 256   ->    26 x  26 x 128 0.044 BF\n",
      "  97 upsample            2x    26 x  26 x 128   ->    52 x  52 x 128\n",
      "  98 route  97 36\n",
      "  99 conv    128  1 x 1 / 1    52 x  52 x 384   ->    52 x  52 x 128 0.266 BF\n",
      " 100 conv    256  3 x 3 / 1    52 x  52 x 128   ->    52 x  52 x 256 1.595 BF\n",
      " 101 conv    128  1 x 1 / 1    52 x  52 x 256   ->    52 x  52 x 128 0.177 BF\n",
      " 102 conv    256  3 x 3 / 1    52 x  52 x 128   ->    52 x  52 x 256 1.595 BF\n",
      " 103 conv    128  1 x 1 / 1    52 x  52 x 256   ->    52 x  52 x 128 0.177 BF\n",
      " 104 conv    256  3 x 3 / 1    52 x  52 x 128   ->    52 x  52 x 256 1.595 BF\n",
      " 105 conv    255  1 x 1 / 1    52 x  52 x 256   ->    52 x  52 x 255 0.353 BF\n",
      " 106 yolo\n",
      "Total BFLOPS 65.864 \n",
      " Allocate additional workspace_size = 12.46 MB \n",
      "Loading weights from yolov3.weights...\n",
      " seen 64 \n",
      "Done!\n",
      "video file: /content/drive/My Drive/Colab Notebooks/licencePlateDetection/videos/test2.mp4\n",
      "Video stream: 1920 x 1080 \n",
      "Objects:\n",
      "\n",
      "\n",
      "FPS:0.0\n",
      "Objects:\n",
      "\n",
      "suitcase: 34% \n",
      "person: 97% \n",
      "person: 58% \n",
      "\n",
      "FPS:-0.0\n",
      "Unable to init server: Could not connect: Connection refused\n",
      "\n",
      "(mat:1928): Gtk-\u001b[1;33mWARNING\u001b[0m **: \u001b[34m21:02:09.082\u001b[0m: cannot open display: \n"
     ]
    }
   ],
   "source": [
    "!./darknet detector demo cfg/coco.data cfg/yolov3.cfg yolov3.weights -dont_show /content/drive/'My Drive'/'Colab Notebooks'/licencePlateDetection/videos/test2.mp4 -i 0 -out_filename res.avi"
   ]
  },
  {
   "cell_type": "code",
   "execution_count": 0,
   "metadata": {
    "colab": {},
    "colab_type": "code",
    "id": "IrofHnm8jZL4"
   },
   "outputs": [],
   "source": []
  }
 ],
 "metadata": {
  "accelerator": "GPU",
  "colab": {
   "collapsed_sections": [],
   "name": "yoloColabDemo.ipynb",
   "provenance": [],
   "version": "0.3.2"
  },
  "kernelspec": {
   "display_name": "Python 3",
   "language": "python",
   "name": "python3"
  },
  "language_info": {
   "codemirror_mode": {
    "name": "ipython",
    "version": 3
   },
   "file_extension": ".py",
   "mimetype": "text/x-python",
   "name": "python",
   "nbconvert_exporter": "python",
   "pygments_lexer": "ipython3",
   "version": "3.6.8"
  }
 },
 "nbformat": 4,
 "nbformat_minor": 1
}
