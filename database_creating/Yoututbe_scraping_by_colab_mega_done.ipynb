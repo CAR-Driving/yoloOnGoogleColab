{
  "nbformat": 4,
  "nbformat_minor": 0,
  "metadata": {
    "colab": {
      "name": "Yoututbe scraping by colab",
      "provenance": [],
      "collapsed_sections": [],
      "toc_visible": true,
      "include_colab_link": true
    },
    "kernelspec": {
      "name": "python3",
      "display_name": "Python 3"
    }
  },
  "cells": [
    {
      "cell_type": "markdown",
      "metadata": {
        "id": "view-in-github",
        "colab_type": "text"
      },
      "source": [
        "<a href=\"https://colab.research.google.com/github/CAR-Driving/yoloOnGoogleColab/blob/master/database_creating/Yoututbe_scraping_by_colab_mega_done.ipynb\" target=\"_parent\"><img src=\"https://colab.research.google.com/assets/colab-badge.svg\" alt=\"Open In Colab\"/></a>"
      ]
    },
    {
      "cell_type": "markdown",
      "metadata": {
        "id": "aZmvGLz222nf"
      },
      "source": [
        "# The main function for scrapin the car type video from the **car_type_label.txt** file and download data by youtube-dl comand for each line of that txt file"
      ]
    },
    {
      "cell_type": "code",
      "metadata": {
        "id": "_UdPCpuAYlP5",
        "colab": {
          "base_uri": "https://localhost:8080/"
        },
        "outputId": "2282ec0b-d72e-4162-8e2f-e5758c9154cf"
      },
      "source": [
        "from google.colab import drive\n",
        "drive.mount('/content/gdrive')\n",
        "!mkdir \"/content/gdrive/My Drive/yolo_car_database/\"\n",
        "\n",
        "# !cp /content \"gdrive/My Drive/yolo_car_databe\""
      ],
      "execution_count": null,
      "outputs": [
        {
          "output_type": "stream",
          "text": [
            "Drive already mounted at /content/gdrive; to attempt to forcibly remount, call drive.mount(\"/content/gdrive\", force_remount=True).\n",
            "mkdir: cannot create directory ‘/content/gdrive/My Drive/yolo_car_database/’: File exists\n"
          ],
          "name": "stdout"
        }
      ]
    },
    {
      "cell_type": "markdown",
      "metadata": {
        "id": "gc-t6USJrVrM"
      },
      "source": [
        "# conect to [Mega.z](https://mega.nz/) cloud for storage files based ot this page:\n",
        "\n",
        "https://colab.research.google.com/github/sudo-ken/Mega-to-Google-Drive/blob/master/Transfer_files_from_Mega_to_Google_Drive.ipynb#scrollTo=Vgh1xlQYGZCO\n"
      ]
    },
    {
      "cell_type": "code",
      "metadata": {
        "id": "h74AgWq7rFkJ",
        "colab": {
          "base_uri": "https://localhost:8080/"
        },
        "outputId": "7cb6ba7f-bb66-4573-9e5a-3f55346bb874"
      },
      "source": [
        "# @markdown <center><h3>Input Your Mega ID</h3></center><br>\n",
        "from functools import wraps\n",
        "import errno\n",
        "import os\n",
        "import signal\n",
        "import subprocess\n",
        "import shlex\n",
        "\n",
        "\n",
        "class TimeoutError(Exception):\n",
        "    pass\n",
        "\n",
        "\n",
        "def timeout(seconds=10, error_message=os.strerror(errno.ETIME)):\n",
        "    def decorator(func):\n",
        "        def _handle_timeout(signum, frame):\n",
        "            raise TimeoutError(error_message)\n",
        "\n",
        "        def wrapper(*args, **kwargs):\n",
        "            signal.signal(signal.SIGALRM, _handle_timeout)\n",
        "            signal.alarm(seconds)\n",
        "            try:\n",
        "                result = func(*args, **kwargs)\n",
        "            finally:\n",
        "                signal.alarm(0)\n",
        "            return result\n",
        "\n",
        "        return wraps(func)(wrapper)\n",
        "\n",
        "    return decorator\n",
        "\n",
        "\n",
        "if not os.path.exists(\"/root/.ipython/ocr.py\"):\n",
        "    from subprocess import run\n",
        "    from shlex import split\n",
        "\n",
        "    shellCmd = \"wget -qq https://raw.githubusercontent.com/biplobsd/OneClickRun/master/res/ocr.py \\\n",
        "                    -O /root/.ipython/ocr.py\"\n",
        "    run(split(shellCmd))\n",
        "from ocr import runSh\n",
        "\n",
        "@timeout(10)\n",
        "def runShT(args):\n",
        "    return runSh(args, output=True)\n",
        "\n",
        "\n",
        "# MEGAcmd installing\n",
        "if not os.path.exists(\"/usr/bin/mega-cmd\"):\n",
        "    print(\"Installing MEGA ...\")\n",
        "    runSh('sudo apt-get -y update')\n",
        "    runSh('sudo apt-get -y install libmms0 libc-ares2 libc6 libcrypto++6 libgcc1 libmediainfo0v5 libpcre3 libpcrecpp0v5 libssl1.1 libstdc++6 libzen0v5 zlib1g apt-transport-https')\n",
        "    runSh('sudo curl -sL -o /var/cache/apt/archives/MEGAcmd.deb https://mega.nz/linux/MEGAsync/Debian_9.0/amd64/megacmd-Debian_9.0_amd64.deb', output=True)\n",
        "    runSh('sudo dpkg -i /var/cache/apt/archives/MEGAcmd.deb', output=True)\n",
        "    print(\"MEGA is installed.\")\n",
        "else:\n",
        "    !pkill mega-cmd\n",
        "\n",
        "# INPUT YOUR MEGA ID\n",
        "\n",
        "USERNAME = 'kayeyoc231@llubed.com'  # @param {type:\"string\"}\n",
        "PASSWORD = \"ss123456\"  # @param {type:\"string\"}\n",
        "if not (USERNAME == \"\" or PASSWORD == \"\"):\n",
        "    try:\n",
        "        runShT(f\"mega-login {USERNAME} {PASSWORD}\")\n",
        "    except TimeoutError:\n",
        "        runSh('mega-whoami', output=True)\n",
        "else:\n",
        "    print(\"Please Input your Mega IDs.\")\n",
        "# @markdown *After signing in, use the above cell(Main Cell) to transfer files from Mega to GDrive using the transfer quota of your Mega Pro Account*"
      ],
      "execution_count": null,
      "outputs": [
        {
          "output_type": "stream",
          "text": [
            "Installing MEGA ...\n",
            "Selecting previously unselected package megacmd.\n",
            "(Reading database ... 144829 files and directories currently installed.)\n",
            "Preparing to unpack .../cache/apt/archives/MEGAcmd.deb ...\n",
            "Unpacking megacmd (1.4.0-3.1) ...\n",
            "Setting up megacmd (1.4.0-3.1) ...\n",
            "MEGA is installed.\n",
            "[Initiating server in background. Log: /root/.megaCmd/megacmdserver.log]\n",
            "Account e-mail: kayeyoc231@llubed.com\n"
          ],
          "name": "stdout"
        }
      ]
    },
    {
      "cell_type": "code",
      "metadata": {
        "id": "81tgCfPYQ18f",
        "colab": {
          "base_uri": "https://localhost:8080/"
        },
        "outputId": "621e5af5-6dae-4a0d-ecc4-62c371de994d"
      },
      "source": [
        "from google.colab import drive\n",
        "drive.mount('/content/gdrive')\n",
        "!mkdir \"/content/gdrive/My Drive/yolo_car_database/\"\n",
        "\n",
        "# !cp /content \"gdrive/My Drive/yolo_car_databe\""
      ],
      "execution_count": null,
      "outputs": [
        {
          "output_type": "stream",
          "text": [
            "Mounted at /content/gdrive\n",
            "mkdir: cannot create directory ‘/content/gdrive/My Drive/yolo_car_database/’: File exists\n"
          ],
          "name": "stdout"
        }
      ]
    },
    {
      "cell_type": "code",
      "metadata": {
        "id": "8hmW4W7mRIci",
        "colab": {
          "base_uri": "https://localhost:8080/"
        },
        "outputId": "48fbfab2-651e-4487-feee-f936eaf333db"
      },
      "source": [
        "%cd /content/gdrive/MyDrive/yolo_car_database"
      ],
      "execution_count": null,
      "outputs": [
        {
          "output_type": "stream",
          "text": [
            "/content/gdrive/MyDrive/yolo_car_database\n"
          ],
          "name": "stdout"
        }
      ]
    },
    {
      "cell_type": "code",
      "metadata": {
        "id": "JSJFb4KBQRCh",
        "colab": {
          "base_uri": "https://localhost:8080/"
        },
        "outputId": "eabc98b8-0679-4beb-d2bd-7e6cfeb06d41"
      },
      "source": [
        "!mega-cmd -h"
      ],
      "execution_count": null,
      "outputs": [
        {
          "output_type": "stream",
          "text": [
            "\n",
            ".===========================================================================.\n",
            "|               __  __ _____ ____    _                      _               |\n",
            "|              |  \\/  | ___|/ ___|  / \\   ___ _ __ ___   __| |              |\n",
            "|              | |\\/| | \\  / |  _  / _ \\ / __| '_ ` _ \\ / _` |              |\n",
            "|              | |  | | /__\\ |_| |/ ___ \\ (__| | | | | | (_| |              |\n",
            "|              |_|  |_|____|\\____/_/   \\_\\___|_| |_| |_|\\__,_|              |\n",
            "|                                                                           |\n",
            "|       Welcome to MEGAcmd! A Command Line Interactive and Scriptable       |\n",
            "|              Application to interact with your MEGA account.              |\n",
            "|         Please write to support@mega.nz if you find any issue or          |\n",
            "|            have any suggestion concerning its functionalities.            |\n",
            "| Enter \"help --non-interactive\" to learn how to use MEGAcmd with scripts.  |\n",
            "|       Enter \"help\" for basic info and a list of available commands.       |\n",
            "`===========================================================================´\n",
            "kayeyoc231@llubed.com:/$ sync\n",
            "                         \n",
            "kayeyoc231@llubed.com:/$ ls\n",
            "Welcome to MEGA.pdf\n",
            "kayeyoc231@llubed.com:/$ ls\n",
            "Welcome to MEGA.pdf\n",
            "kayeyoc231@llubed.com:/$ help\n",
            "Here is the list of available commands and their usage\n",
            "Use \"help -f\" to get a brief description of the commands\n",
            "You can get further help on a specific command with \"command --help\" \n",
            "Alternatively, you can use \"help -ff\" to get a complete description of all commands\n",
            "Use \"help --non-interactive\" to learn how to use MEGAcmd with scripts\n",
            "Use \"help --upgrade\" to learn about the limitations and obtaining PRO accounts\n",
            "Use \"help --paths\" to learn about paths and how to enter them\n",
            "\n",
            "Commands:\n",
            "      attr                graphics                  proxy\n",
            "      backup              help                      psa\n",
            "      cancel              https                     put\n",
            "      cat                 import                    pwd\n",
            "      cd                  invite                    quit\n",
            "      clear               ipc                       reload\n",
            "      completion          killsession               rm\n",
            "      confirm             lcd                       session\n",
            "      confirmcancel       log                       share\n",
            "      cp                  login                     showpcr\n",
            "      debug               logout                    signup\n",
            "      deleteversions      lpwd                      speedlimit\n",
            "      df                  ls                        sync\n",
            "      du                  masterkey                 thumbnail\n",
            "      errorcode           mediainfo                 transfers\n",
            "      exclude             mkdir                     tree\n",
            "      exit                mount                     userattr\n",
            "      export              mv                        users\n",
            "      find                passwd                    version\n",
            "      ftp                 permissions               webdav\n",
            "      get                 preview                   whoami\n",
            "\n",
            "Verbosity: You can increase the amount of information given by any command by passing \"-v\" (\"-vv\", \"-vvv\", ...)\n",
            "kayeyoc231@llubed.com:/$ sync -h\n",
            "[API:err: 22:00:05] Invalid argument: h\n",
            "[API:err: 22:00:05]       sync [localpath dstremotepath| [-dsr] [ID|localpath]\n",
            "kayeyoc231@llubed.com:/$ sync \"/content/gdrive/MyDrive/yolo_car_database' .\n",
            "[API:err: 22:00:30] Sync not found: /content/gdrive/MyDrive/yolo_car_database' .. Please provide full path or valid ID\n",
            "kayeyoc231@llubed.com:/$ sync /content/gdrive/MyDrive/yolo_car_database .\n",
            "kayeyoc231@llubed.com:/$ \n",
            "ls\n",
            "AudiA4\n",
            "AudiA6\n",
            "BMW1_Series\n",
            "BMW3_Series\n",
            "BMW5_Series\n",
            "BMW7_Series\n",
            "FordFiesta\n",
            "FordFocus\n",
            "FordMondeo\n",
            "FordMustang\n",
            "HondaAccord\n",
            "HondaCivic\n",
            "HondaCRV\n",
            "HondaFit\n",
            "JeepGrand_Cherokee\n",
            "JeepWrangler\n",
            "KiaSportage\n",
            "Lada4x4_Niva\n",
            "Lada110\n",
            "Lada112\n",
            "Lada2106\n",
            "Lada2107\n",
            "Lada2109\n",
            "Lada2114\n",
            "Lada2115\n",
            "Lada21099\n",
            "LadaPriora\n",
            "LamborghiniAventador\n",
            "Mazda3\n",
            "MercedesBenzEClass\n",
            "MiniCooper\n",
            "MitsubishiLancer\n",
            "MitsubishiPajero\n",
            "NissanQashqai\n",
            "NissanSkyline\n",
            "NissanXTrail\n",
            "OpelAstra\n",
            "OpelCorsa\n",
            "Peugeot308\n",
            "Peugeot_405\n",
            "Porsche911\n",
            "PorscheCayenne\n",
            "SkodaOctavia\n",
            "SubaruForester\n",
            "SubaruImpreza\n",
            "ToyotaCaldina\n",
            "ToyotaCamry\n",
            "ToyotaCorolla\n",
            "ToyotaCorona\n",
            "ToyotaLand_Cruiser\n",
            "ToyotaLand_Cruiser_Prado\n",
            "ToyotaMark_II\n",
            "ToyotaRAV4\n",
            "ToyotaVitz\n",
            "VolkswagenGolf\n",
            "VolkswagenPassat\n",
            "VolkswagenPolo\n",
            "VolkswagenTransporter\n",
            "Welcome to MEGA.pdf\n",
            "kayeyoc231@llubed.com:/$ ls\n",
            "AudiA4\n",
            "AudiA6\n",
            "BMW1_Series\n",
            "BMW3_Series\n",
            "BMW5_Series\n",
            "BMW7_Series\n",
            "FordFiesta\n",
            "FordFocus\n",
            "FordMondeo\n",
            "FordMustang\n",
            "HondaAccord\n",
            "HondaCivic\n",
            "HondaCRV\n",
            "HondaFit\n",
            "JeepGrand_Cherokee\n",
            "JeepWrangler\n",
            "KiaSportage\n",
            "Lada4x4_Niva\n",
            "Lada110\n",
            "Lada112\n",
            "Lada2106\n",
            "Lada2107\n",
            "Lada2109\n",
            "Lada2114\n",
            "Lada2115\n",
            "Lada21099\n",
            "LadaPriora\n",
            "LamborghiniAventador\n",
            "Mazda3\n",
            "MercedesBenzEClass\n",
            "MiniCooper\n",
            "MitsubishiLancer\n",
            "MitsubishiPajero\n",
            "NissanQashqai\n",
            "NissanSkyline\n",
            "NissanXTrail\n",
            "OpelAstra\n",
            "OpelCorsa\n",
            "Peugeot308\n",
            "Peugeot_405\n",
            "Porsche911\n",
            "PorscheCayenne\n",
            "SkodaOctavia\n",
            "SubaruForester\n",
            "SubaruImpreza\n",
            "ToyotaCaldina\n",
            "ToyotaCamry\n",
            "ToyotaCorolla\n",
            "ToyotaCorona\n",
            "ToyotaLand_Cruiser\n",
            "ToyotaLand_Cruiser_Prado\n",
            "ToyotaMark_II\n",
            "ToyotaRAV4\n",
            "ToyotaVitz\n",
            "VolkswagenGolf\n",
            "VolkswagenPassat\n",
            "VolkswagenPolo\n",
            "VolkswagenTransporter\n",
            "tt.txt\n",
            "Welcome to MEGA.pdf\n",
            "kayeyoc231@llubed.com:/$ "
          ],
          "name": "stdout"
        }
      ]
    },
    {
      "cell_type": "markdown",
      "metadata": {
        "id": "JPCOkgOL-ET4"
      },
      "source": [
        "\n",
        "# Also you can use this command after running the code blocks\n",
        "written at the firs part of this Colab page to upload colab files to mega.nz dirve folder:"
      ]
    },
    {
      "cell_type": "code",
      "metadata": {
        "id": "1IVdnmVE-Cyo"
      },
      "source": [
        "from ocr import runSh\n",
        " \n",
        " \n",
        "root = <the Colab target folder to be copied to mega.nz drive>\n",
        "runSh('mega-cd /' )\n",
        "runSh('mega-mkdir SomeThing ')\n",
        "runSh( mega-ls ')\n",
        "runSh('mega-cd SomeThing ')\n",
        " \n",
        "runSh('mega-put '+ root+' . ')\n",
        "runSh(' mega-ls')"
      ],
      "execution_count": null,
      "outputs": []
    }
  ]
}