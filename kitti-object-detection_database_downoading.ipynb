{
  "nbformat": 4,
  "nbformat_minor": 0,
  "metadata": {
    "colab": {
      "name": "Untitled0.ipynb",
      "provenance": [],
      "authorship_tag": "ABX9TyPi641GwuAYgZ4EDCCYRqNl",
      "include_colab_link": true
    },
    "kernelspec": {
      "name": "python3",
      "display_name": "Python 3"
    }
  },
  "cells": [
    {
      "cell_type": "markdown",
      "metadata": {
        "id": "view-in-github",
        "colab_type": "text"
      },
      "source": [
        "<a href=\"https://colab.research.google.com/github/CAR-Driving/yoloOnGoogleColab/blob/master/kitti-object-detection_database_downoading.ipynb\" target=\"_parent\"><img src=\"https://colab.research.google.com/assets/colab-badge.svg\" alt=\"Open In Colab\"/></a>"
      ]
    },
    {
      "cell_type": "markdown",
      "metadata": {
        "id": "faDvTBfKogb4"
      },
      "source": [
        "## inserting the KITTI - Object Detection\n",
        "Detect and localize multiple Classes in images\n",
        " \n",
        "KITTI Object Detection with Bounding Boxes – Taken from the benchmark suite from the Karlsruhe Institute of Technology, this dataset consists of images from the object detection section of that suite. This image dataset includes over 14,000 images made up of 7,518 testing images and 7,481 training images with bounding boxes labels in a separate file.\n",
        " \n",
        "https://www.kaggle.com/twaldo/kitti-object-detection"
      ]
    },
    {
      "cell_type": "markdown",
      "metadata": {
        "id": "dWJ4jqstpUnx"
      },
      "source": [
        "# First of all get The **kaggle.json** file from this link, as you can see blowe:\n",
        "\n",
        "\n",
        "```\n",
        "*   https://www.kaggle.com/<your Account)/account\n",
        "\n",
        "```\n",
        "\n",
        "\n",
        "\n",
        "![enter image description here](https://i.stack.imgur.com/Uz4KW.png)\n",
        "\n",
        "Then Upload the **kaggle.json** by Blow code:\n"
      ]
    },
    {
      "cell_type": "code",
      "metadata": {
        "id": "42GyrmHqop4l"
      },
      "source": [
        "from google.colab import files\n",
        "files.upload()\n",
        " \n",
        "!mkdir -p ~/.kaggle\n",
        " \n",
        "!cp kaggle.json ~/.kaggle/\n",
        "!chmod 600 ~/.kaggle/kaggle.json\n",
        " \n",
        " \n",
        "!pip install kaggle \n",
        "#!sudo apt install kaggle \n",
        "!kaggle datasets download -d twaldo/kitti-object-detection"
      ],
      "execution_count": null,
      "outputs": []
    },
    {
      "cell_type": "code",
      "metadata": {
        "id": "nLQHVZJfoeqJ"
      },
      "source": [
        "!ls\n",
        "!unzip kitti-object-detection.zip"
      ],
      "execution_count": null,
      "outputs": []
    },
    {
      "cell_type": "markdown",
      "metadata": {
        "id": "xsMorV2Joy9N"
      },
      "source": [
        "## Location of the Images:\n",
        "![enter image description here](https://i.stack.imgur.com/BBEfj.jpg)\n",
        "\n",
        "\n",
        "\n",
        "\n"
      ]
    },
    {
      "cell_type": "markdown",
      "metadata": {
        "id": "xsXYd1lAtFWp"
      },
      "source": [
        "# Install Yolo:\n",
        "\n",
        "https://pjreddie.com/darknet/yolo/\n"
      ]
    },
    {
      "cell_type": "code",
      "metadata": {
        "id": "nG4xl7eXtJN0"
      },
      "source": [
        "\n",
        "import cv2, os\n",
        "import matplotlib.pyplot as plt\n",
        "%matplotlib inline\n",
        "  "
      ],
      "execution_count": null,
      "outputs": []
    },
    {
      "cell_type": "code",
      "metadata": {
        "id": "LvF9TxZjtLGO"
      },
      "source": [
        "\n",
        "!ls\n",
        "!cd /content\n",
        "!rm -fr darknet\n",
        "!git clone https://github.com/AlexeyAB/darknet/\n",
        "% cd darknet\n",
        "!sed -i 's/OPENCV=0/OPENCV=1/g' Makefile\n",
        "!sed -i 's/GPU=0/GPU=1/g' Makefile\n",
        "!sed -i 's/CUDNN=0/CUDNN=1/g' Makefile\n",
        "!apt update\n",
        "!apt-get install libopencv-dev"
      ],
      "execution_count": null,
      "outputs": []
    },
    {
      "cell_type": "code",
      "metadata": {
        "id": "lNrtpf9StNzw"
      },
      "source": [
        "## `Compile and Configure`\n",
        "\n",
        "\n",
        "* Compile YOLO\n",
        "* Download YOLO weights\n",
        "\n"
      ],
      "execution_count": null,
      "outputs": []
    },
    {
      "cell_type": "code",
      "metadata": {
        "id": "PaE1gK68tQY8"
      },
      "source": [
        "!make &> compile.log"
      ],
      "execution_count": null,
      "outputs": []
    },
    {
      "cell_type": "code",
      "metadata": {
        "id": "EhGetoFhtSld"
      },
      "source": [
        "!wget https://pjreddie.com/media/files/yolov3.weights"
      ],
      "execution_count": null,
      "outputs": []
    }
  ]
}